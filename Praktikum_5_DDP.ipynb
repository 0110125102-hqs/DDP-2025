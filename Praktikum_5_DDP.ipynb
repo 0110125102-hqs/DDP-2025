{
  "nbformat": 4,
  "nbformat_minor": 0,
  "metadata": {
    "colab": {
      "provenance": [],
      "authorship_tag": "ABX9TyO7bHuFWlkNLOUickdlpMh7",
      "include_colab_link": true
    },
    "kernelspec": {
      "name": "python3",
      "display_name": "Python 3"
    },
    "language_info": {
      "name": "python"
    }
  },
  "cells": [
    {
      "cell_type": "markdown",
      "metadata": {
        "id": "view-in-github",
        "colab_type": "text"
      },
      "source": [
        "<a href=\"https://colab.research.google.com/github/0110125102-hqs/DDP-2025/blob/main/Praktikum_5_DDP.ipynb\" target=\"_parent\"><img src=\"https://colab.research.google.com/assets/colab-badge.svg\" alt=\"Open In Colab\"/></a>"
      ]
    },
    {
      "cell_type": "code",
      "execution_count": 12,
      "metadata": {
        "colab": {
          "base_uri": "https://localhost:8080/"
        },
        "id": "qyMd49Whx9F5",
        "outputId": "76bb86c4-2d3b-4350-d7a2-0a341189f792"
      },
      "outputs": [
        {
          "output_type": "stream",
          "name": "stdout",
          "text": [
            "['Beat Ember', 'motor', 200, 'Hitam', 2]\n",
            "['Beat Ember', 'motor', 200, 'Hitam', 2, 5000000, 'matic']\n",
            "['Beat Ember', 'motor', 'Honda', 200, 'Hitam', 2, 5000000, 'matic']\n"
          ]
        }
      ],
      "source": [
        "namaKendaraan = \"Beat Ember\"\n",
        "jenisKendaraan = \"motor\"\n",
        "ccKendaraan = 200\n",
        "warnaKendaraan = \"Hitam\"\n",
        "rodaKendaraan = 2\n",
        "\n",
        "\n",
        "data_kendaraan = [namaKendaraan, jenisKendaraan, ccKendaraan,\n",
        "                  warnaKendaraan, rodaKendaraan]\n",
        "print(data_kendaraan)\n",
        "\n",
        "hargaKendaraan = 5000000\n",
        "tipeKendaraan = \"matic\"\n",
        "\n",
        "data_kendaraan.append(hargaKendaraan)\n",
        "data_kendaraan.append(tipeKendaraan)\n",
        "print(data_kendaraan)\n",
        "\n",
        "merkKendaraan = \"Honda\"\n",
        "data_kendaraan.insert(2, merkKendaraan)\n",
        "print(data_kendaraan)"
      ]
    },
    {
      "cell_type": "code",
      "source": [
        "pilihan = input(\"\"\"\n",
        "Silahkan pilih menu yang diinginkan\n",
        "===================================\n",
        "1. Luas Persegi\n",
        "2. Luas Lingkaran\n",
        "3. Luas Segitiga\n",
        "===================================\n",
        "Kirimkan hanya angka saja,\n",
        "Jawaban = \"\"\")\n",
        "\n",
        "print(type(pilihan))\n",
        "match pilihan:\n",
        "  case 1:\n",
        "    print(\"anda memilih Luas Persegi silahkan isi data dibawah\")\n",
        "    sisi = int(input(\"sisi = \"))\n",
        "    luas = sisi * sisi\n",
        "\n",
        "    print(f\"Luas Persegi dengan sisi (sisi) adalah (luas)\")\n",
        "    #Luas Persegi\n",
        "\n",
        "  case 2:\n",
        "    print(\"anda memilih Luas Lingkaran silahkan isi data dibawah\")\n",
        "    jarijari = int(input(\"jarijari = \"))\n",
        "    luas = 3.14 * jarijari ** 2\n",
        "\n",
        "    print(f\"Luas Lingkaran dengan jarijari (jarijari) adalah (luas)\")\n",
        "    #Luas Lingkaran\n",
        "    #phi * jarijari ** 2\n",
        "\n",
        "  case 3:\n",
        "    print(\"anda memilih Luas Segitiga silahkan isi data dibawah\")\n",
        "    alas = int(input(\"alas = \"))\n",
        "    luas = 1/2 * alas ** tinggi\n",
        "\n",
        "    print(f\"Luas Segitiga dengan alas (alas) adalah (luas)\")\n",
        "    #Luas Segitiga\n",
        "    #(alas * tinggi)/2\n",
        "\n",
        "  case _:\n",
        "    print(\"saya tidak tahu\")"
      ],
      "metadata": {
        "colab": {
          "base_uri": "https://localhost:8080/"
        },
        "id": "xVjVcX-I9POr",
        "outputId": "7b7f4b3d-42e7-407c-e05c-7dcd4daa85d4"
      },
      "execution_count": 32,
      "outputs": [
        {
          "output_type": "stream",
          "name": "stdout",
          "text": [
            "\n",
            "Silahkan pilih menu yang diinginkan\n",
            "===================================\n",
            "1. Luas Persegi\n",
            "2. Luas Lingkaran\n",
            "3. Luas Segitiga\n",
            "===================================\n",
            "Kirimkan hanya angka saja, \n",
            "Jawaban = 10\n",
            "<class 'str'>\n",
            "saya tidak tahu\n"
          ]
        }
      ]
    }
  ]
}